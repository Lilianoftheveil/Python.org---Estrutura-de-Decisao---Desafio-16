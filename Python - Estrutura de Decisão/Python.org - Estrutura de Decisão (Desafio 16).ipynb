{
 "cells": [
  {
   "cell_type": "code",
   "execution_count": null,
   "id": "f704985c",
   "metadata": {},
   "outputs": [],
   "source": [
    "Python - Lista de Exercícios (Estrutura de Decisão) \n",
    "link: https://wiki.python.org.br/EstruturaDeDecisao"
   ]
  },
  {
   "cell_type": "markdown",
   "id": "0788cfd9",
   "metadata": {},
   "source": [
    "\"\"\" 16) Faça um programa que calcule as raízes de uma equação do segundo grau, na forma ax2 + bx + c. \n",
    "O programa deverá pedir os valores de a, b e c e fazer as consistências, informando ao usuário nas seguintes situações:\n",
    "\n",
    "- Se o usuário informar o valor de A igual a zero, a equação não é do segundo grau e o programa não deve fazer pedir os demais valores, sendo encerrado;\n",
    "- Se o delta calculado for negativo, a equação não possui raizes reais. Informe ao usuário e encerre o programa;\n",
    "- Se o delta calculado for igual a zero a equação possui apenas uma raiz real; informe-a ao usuário;\n",
    "- Se o delta for positivo, a equação possui duas raiz reais; informe-as ao usuário; \"\"\""
   ]
  },
  {
   "cell_type": "code",
   "execution_count": null,
   "id": "6d7cf684",
   "metadata": {},
   "outputs": [],
   "source": [
    "Obs.: Visando desenvolver o programa de forma mais dinâmica e menos suscetível a erros, adicionei \n",
    "outras estruturas no corpo do código. De modo que apenas números sejam aceitos durante sua execução."
   ]
  },
  {
   "cell_type": "code",
   "execution_count": null,
   "id": "eb6d47b6",
   "metadata": {},
   "outputs": [],
   "source": [
    "import math\n",
    "\n",
    "while True:\n",
    "  a = input(\"Valor de A: \")\n",
    "  b = input(\"Valor de B: \")\n",
    "  c = input(\"Valor de C: \")\n",
    "  try:\n",
    "    float(a), float(b), float(c)\n",
    "    break\n",
    "  except:\n",
    "    print(\"Por favor, digite apenas números.\")\n",
    "    continue\n",
    "\n",
    "a, b, c = float(a), float(b), float(c)\n",
    "\n",
    "if a == 0:\n",
    "    print(\"Se A é igual 0, então não temos um equação de segundo grau.\")\n",
    "else:\n",
    "  d = (b ** 2) - 4 * a * c\n",
    "  s = math.sqrt(d)\n",
    "  x1 = (-b + s) / (2 * a)\n",
    "  x2 = (-b - s) / (2 * a)\n",
    "\n",
    "  if d < 0:\n",
    "    print(\"O cálculo de delta resultou em um número negativo, logo a equação não possui raízes reais.\")\n",
    "  elif d == 0:\n",
    "    print(f\"A equação possui apenas uma raiz real. Resultado: {x1}\")\n",
    "  elif d > 0:\n",
    "    print(f\"A equação possui duas raizes reais. Resultado: {x1, x2}\")"
   ]
  }
 ],
 "metadata": {
  "kernelspec": {
   "display_name": "Python 3 (ipykernel)",
   "language": "python",
   "name": "python3"
  },
  "language_info": {
   "codemirror_mode": {
    "name": "ipython",
    "version": 3
   },
   "file_extension": ".py",
   "mimetype": "text/x-python",
   "name": "python",
   "nbconvert_exporter": "python",
   "pygments_lexer": "ipython3",
   "version": "3.8.10"
  }
 },
 "nbformat": 4,
 "nbformat_minor": 5
}
